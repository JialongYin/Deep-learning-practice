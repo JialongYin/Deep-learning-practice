{
  "nbformat": 4,
  "nbformat_minor": 0,
  "metadata": {
    "colab": {
      "name": "EE559_–_Practical_Session_2.ipynb",
      "version": "0.3.2",
      "provenance": [],
      "collapsed_sections": [],
      "include_colab_link": true
    },
    "kernelspec": {
      "name": "python3",
      "display_name": "Python 3"
    }
  },
  "cells": [
    {
      "cell_type": "markdown",
      "metadata": {
        "id": "view-in-github",
        "colab_type": "text"
      },
      "source": [
        "<a href=\"https://colab.research.google.com/github/JialongYin/Deep-learning-practice/blob/master/IDIAP%20EE559%20Deep%20Learning/EE559_%E2%80%93_Practical_Session_2.ipynb\" target=\"_parent\"><img src=\"https://colab.research.google.com/assets/colab-badge.svg\" alt=\"Open In Colab\"/></a>"
      ]
    },
    {
      "cell_type": "code",
      "metadata": {
        "id": "AFstAUAhnlU3",
        "colab_type": "code",
        "colab": {}
      },
      "source": [
        "import torch"
      ],
      "execution_count": 0,
      "outputs": []
    },
    {
      "cell_type": "code",
      "metadata": {
        "id": "kOUjHVIzsWho",
        "colab_type": "code",
        "colab": {
          "base_uri": "https://localhost:8080/",
          "height": 52
        },
        "outputId": "ae87a88f-7f8b-495f-b9dc-c2154180086a"
      },
      "source": [
        "print('# 1 #')\n",
        "def nearest_classification(train_input, train_target, x):\n",
        "  dist = (train_input-x).pow(2).sum(dim=1)\n",
        "  return train_target[torch.min(dist,0)[1].item()].item()\n",
        "train_input = torch.arange(1, 7).view(2,3)\n",
        "train_target = torch.tensor([3,4])\n",
        "x = torch.tensor([4,5,6])\n",
        "nearest_classification(train_input, train_target, x)"
      ],
      "execution_count": 11,
      "outputs": [
        {
          "output_type": "stream",
          "text": [
            "# 1 #\n"
          ],
          "name": "stdout"
        },
        {
          "output_type": "execute_result",
          "data": {
            "text/plain": [
              "4"
            ]
          },
          "metadata": {
            "tags": []
          },
          "execution_count": 11
        }
      ]
    },
    {
      "cell_type": "code",
      "metadata": {
        "id": "28Xw_6uEyNi5",
        "colab_type": "code",
        "colab": {
          "base_uri": "https://localhost:8080/",
          "height": 52
        },
        "outputId": "de0659a3-ff88-49ef-9165-34f3e290f9c7"
      },
      "source": [
        "print('# 2 #')\n",
        "def compute_nb_errors(train_input, train_target, test_input, test_target, mean = None, proj = None):\n",
        "  train_input_center = train_input\n",
        "  test_input_center = test_input\n",
        "  if mean != None:\n",
        "    train_input_center = train_input-mean\n",
        "    test_input_center = test_input-mean\n",
        "  if proj != None:\n",
        "    train_input_center = train_input_center.mm(proj.t())\n",
        "    test_input_center = test_input_center.mm(proj.t())\n",
        "  err = 0\n",
        "  for i,test_entry in enumerate(test_input_center):\n",
        "    pred = nearest_classification(train_input_center, train_target, test_entry)\n",
        "    if pred != test_target[i]:\n",
        "      err += 1\n",
        "  return err\n",
        "train_input = torch.arange(1, 7).view(2,3)\n",
        "train_target = torch.tensor([3,4])\n",
        "test_input = torch.arange(1, 7).view(2,3)\n",
        "test_target = torch.tensor([4,3])\n",
        "compute_nb_errors(train_input, train_target, test_input, test_target)"
      ],
      "execution_count": 16,
      "outputs": [
        {
          "output_type": "stream",
          "text": [
            "# 2 #\n"
          ],
          "name": "stdout"
        },
        {
          "output_type": "execute_result",
          "data": {
            "text/plain": [
              "2"
            ]
          },
          "metadata": {
            "tags": []
          },
          "execution_count": 16
        }
      ]
    },
    {
      "cell_type": "code",
      "metadata": {
        "id": "nCO0T3oZ55cE",
        "colab_type": "code",
        "colab": {}
      },
      "source": [
        "print('# 3 #')\n",
        "def PCA(x):\n",
        "  "
      ],
      "execution_count": 0,
      "outputs": []
    }
  ]
}