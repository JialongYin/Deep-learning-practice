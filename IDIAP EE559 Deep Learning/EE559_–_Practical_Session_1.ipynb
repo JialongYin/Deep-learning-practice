{
  "nbformat": 4,
  "nbformat_minor": 0,
  "metadata": {
    "colab": {
      "name": "EE559 – Practical Session 1.ipynb",
      "version": "0.3.2",
      "provenance": [],
      "collapsed_sections": [],
      "include_colab_link": true
    },
    "kernelspec": {
      "name": "python3",
      "display_name": "Python 3"
    }
  },
  "cells": [
    {
      "cell_type": "markdown",
      "metadata": {
        "id": "view-in-github",
        "colab_type": "text"
      },
      "source": [
        "<a href=\"https://colab.research.google.com/github/JialongYin/Deep-learning-practice/blob/master/IDIAP%20EE559%20Deep%20Learning/EE559_%E2%80%93_Practical_Session_1.ipynb\" target=\"_parent\"><img src=\"https://colab.research.google.com/assets/colab-badge.svg\" alt=\"Open In Colab\"/></a>"
      ]
    },
    {
      "cell_type": "markdown",
      "metadata": {
        "id": "RTu-psBrmqlN",
        "colab_type": "text"
      },
      "source": [
        "# **EE559 – Practical Session 1**\n",
        "\n",
        "**Introduction**\n",
        "\n",
        "The objective of this session is to practice with basic tensor manipulations in pytorch, to understand the relation between a tensor and its underlying storage, and get a sense of the efficiency of tensor-based computation compared to their equivalent python iterative implementations.\n"
      ]
    },
    {
      "cell_type": "code",
      "metadata": {
        "id": "a5QQMc9Smor7",
        "colab_type": "code",
        "colab": {}
      },
      "source": [
        "import torch,time"
      ],
      "execution_count": 0,
      "outputs": []
    },
    {
      "cell_type": "code",
      "metadata": {
        "id": "u2gYKZcLWRgw",
        "colab_type": "code",
        "colab": {
          "base_uri": "https://localhost:8080/",
          "height": 259
        },
        "outputId": "b36a9507-cf5d-4ac4-fe01-c96f342a5d95"
      },
      "source": [
        "print('# 1 #')\n",
        "mat = torch.full((13,13),1,dtype=torch.int8)\n",
        "mat[:,(1,6,11)] = 2\n",
        "mat[(1,6,11),:] = 2\n",
        "mat[3:5,3:5] = 3\n",
        "mat[3:5,8:10] = 3\n",
        "mat[8:10,3:5] = 3\n",
        "mat[8:10,8:10] = 3\n",
        "print(mat)"
      ],
      "execution_count": 44,
      "outputs": [
        {
          "output_type": "stream",
          "text": [
            "# 1 #\n"
          ],
          "name": "stdout"
        },
        {
          "output_type": "execute_result",
          "data": {
            "text/plain": [
              "tensor([[1, 2, 1, 1, 1, 1, 2, 1, 1, 1, 1, 2, 1],\n",
              "        [2, 2, 2, 2, 2, 2, 2, 2, 2, 2, 2, 2, 2],\n",
              "        [1, 2, 1, 1, 1, 1, 2, 1, 1, 1, 1, 2, 1],\n",
              "        [1, 2, 1, 3, 3, 1, 2, 1, 3, 3, 1, 2, 1],\n",
              "        [1, 2, 1, 3, 3, 1, 2, 1, 3, 3, 1, 2, 1],\n",
              "        [1, 2, 1, 1, 1, 1, 2, 1, 1, 1, 1, 2, 1],\n",
              "        [2, 2, 2, 2, 2, 2, 2, 2, 2, 2, 2, 2, 2],\n",
              "        [1, 2, 1, 1, 1, 1, 2, 1, 1, 1, 1, 2, 1],\n",
              "        [1, 2, 1, 3, 3, 1, 2, 1, 3, 3, 1, 2, 1],\n",
              "        [1, 2, 1, 3, 3, 1, 2, 1, 3, 3, 1, 2, 1],\n",
              "        [1, 2, 1, 1, 1, 1, 2, 1, 1, 1, 1, 2, 1],\n",
              "        [2, 2, 2, 2, 2, 2, 2, 2, 2, 2, 2, 2, 2],\n",
              "        [1, 2, 1, 1, 1, 1, 2, 1, 1, 1, 1, 2, 1]], dtype=torch.int8)"
            ]
          },
          "metadata": {
            "tags": []
          },
          "execution_count": 44
        }
      ]
    },
    {
      "cell_type": "code",
      "metadata": {
        "id": "R-hjlFnNG2Fd",
        "colab_type": "code",
        "colab": {
          "base_uri": "https://localhost:8080/",
          "height": 86
        },
        "outputId": "6de84d00-d119-472e-9b4c-b28666ebe9fe"
      },
      "source": [
        "print('# 2 #')\n",
        "mat = torch.empty((20,20)).normal_()\n",
        "diag = torch.diag(torch.arange(1., 21.))\n",
        "eig,_ = torch.eig(torch.mm(torch.mm(torch.inverse(mat), diag),mat))\n",
        "print(eig[:,0].sort()[0])"
      ],
      "execution_count": 51,
      "outputs": [
        {
          "output_type": "stream",
          "text": [
            "# 2 #\n"
          ],
          "name": "stdout"
        },
        {
          "output_type": "execute_result",
          "data": {
            "text/plain": [
              "tensor([ 1.0000,  2.0000,  3.0000,  4.0000,  5.0000,  6.0000,  7.0000,  8.0000,\n",
              "         9.0000, 10.0000, 11.0000, 12.0000, 13.0000, 14.0000, 15.0000, 16.0000,\n",
              "        17.0000, 18.0000, 19.0001, 20.0000])"
            ]
          },
          "metadata": {
            "tags": []
          },
          "execution_count": 51
        }
      ]
    },
    {
      "cell_type": "code",
      "metadata": {
        "id": "fhO4poqiJtQu",
        "colab_type": "code",
        "colab": {
          "base_uri": "https://localhost:8080/",
          "height": 52
        },
        "outputId": "4c9226ee-ce71-479b-afe6-a5d7406018c4"
      },
      "source": [
        "print('# 3 #')\n",
        "mat1 = torch.empty((5000,5000)).normal_()\n",
        "mat2 = torch.empty((5000,5000)).normal_()\n",
        "t_start = time.perf_counter()\n",
        "prod = mat1.mm(mat2)\n",
        "t_stop = time.perf_counter()\n",
        "print(t_stop-t_start)\n"
      ],
      "execution_count": 55,
      "outputs": [
        {
          "output_type": "stream",
          "text": [
            "# 3 #\n",
            "3.672334509000393\n"
          ],
          "name": "stdout"
        }
      ]
    },
    {
      "cell_type": "code",
      "metadata": {
        "id": "IvYu4uv5c3fk",
        "colab_type": "code",
        "colab": {
          "base_uri": "https://localhost:8080/",
          "height": 311
        },
        "outputId": "6443c43e-5e9c-4bd7-f883-91ae4c419764"
      },
      "source": [
        "print('# 4 #')\n",
        "def mul_row(m):\n",
        "  mat = torch.empty(m.size(0),m.size(1))\n",
        "  for i in range(mat.size(0)):\n",
        "    for j in range(mat.size(1)):\n",
        "      mat[i][j] = m[i][j]*(i+1)\n",
        "  return mat\n",
        "def mul_row_fast(m):\n",
        "  arr = torch.arange(1,m.size(0)+1).float().view(-1,1)\n",
        "  mat = torch.mul(m, arr)\n",
        "  return mat\n",
        "m = torch.full((1000, 400), 2.0)\n",
        "t1_start = time.perf_counter()\n",
        "print(mul_row(m))\n",
        "t1_stop = time.perf_counter()\n",
        "t2_start = time.perf_counter()\n",
        "print(mul_row_fast(m))\n",
        "t2_stop = time.perf_counter()\n",
        "print(t1_stop-t1_start)\n",
        "print(t2_stop-t2_start)"
      ],
      "execution_count": 65,
      "outputs": [
        {
          "output_type": "stream",
          "text": [
            "# 4 #\n",
            "tensor([[   2.,    2.,    2.,  ...,    2.,    2.,    2.],\n",
            "        [   4.,    4.,    4.,  ...,    4.,    4.,    4.],\n",
            "        [   6.,    6.,    6.,  ...,    6.,    6.,    6.],\n",
            "        ...,\n",
            "        [1996., 1996., 1996.,  ..., 1996., 1996., 1996.],\n",
            "        [1998., 1998., 1998.,  ..., 1998., 1998., 1998.],\n",
            "        [2000., 2000., 2000.,  ..., 2000., 2000., 2000.]])\n",
            "tensor([[   2.,    2.,    2.,  ...,    2.,    2.,    2.],\n",
            "        [   4.,    4.,    4.,  ...,    4.,    4.,    4.],\n",
            "        [   6.,    6.,    6.,  ...,    6.,    6.,    6.],\n",
            "        ...,\n",
            "        [1996., 1996., 1996.,  ..., 1996., 1996., 1996.],\n",
            "        [1998., 1998., 1998.,  ..., 1998., 1998., 1998.],\n",
            "        [2000., 2000., 2000.,  ..., 2000., 2000., 2000.]])\n",
            "6.949604011999327\n",
            "0.0022917060014151502\n"
          ],
          "name": "stdout"
        }
      ]
    }
  ]
}